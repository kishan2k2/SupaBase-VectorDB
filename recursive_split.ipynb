{
 "cells": [
  {
   "cell_type": "code",
   "execution_count": 1,
   "metadata": {},
   "outputs": [
    {
     "name": "stdout",
     "output_type": "stream",
     "text": [
      "Note: you may need to restart the kernel to use updated packages.\n"
     ]
    },
    {
     "name": "stderr",
     "output_type": "stream",
     "text": [
      "ERROR: Could not find a version that satisfies the requirement langchain-text-splitter (from versions: none)\n",
      "ERROR: No matching distribution found for langchain-text-splitter\n",
      "\n",
      "[notice] A new release of pip is available: 23.3.2 -> 24.0\n",
      "[notice] To update, run: python.exe -m pip install --upgrade pip\n"
     ]
    }
   ],
   "source": [
    "# pip install langchain-text-splitter"
   ]
  },
  {
   "cell_type": "code",
   "execution_count": 1,
   "metadata": {},
   "outputs": [],
   "source": [
    "text= ''' \n",
    "    \\nBegin Reading\\nTable of Contents\\nAbout the Author\\nCopyright Page\\n \\nThank you for buying this\\nSt. Martin’ s Publishing Gr oup ebook.\\n \\nTo receive special of fers, bonus content,\\nand info on new releases and other great reads,\\nsign up for our newsletters.\\n \\nOr visit us online at\\nus.macmillan.com/newslettersignup\\n \\nFor email updates on the author , click here. \\nThe author and publisher have provided this e-book to you for your\\npersonal use only. You may not make this e-book publicly available in any\\nway. Copyright infringement is against the law. If you believe the copy\\nof this e-book you are reading infringes on the author ’s copyright,\\nplease notify the publisher at: us.macmillanusa.com/piracy . \\nFor Mox\\nyou ar e my sunshine\\nand the air that I br eathe\\nand the r eason for everythingPART ONE\\nShe can kill with a smile, she can wound with her eyes\\n—B ILLY JOELCHAPTER ONE\\nThere’ s a time and a place for erect nipples, but the back of a Seattle police\\ncar definitely isn’ t it.\\nParis Peralta didn’t think to grab a sweater before they arrested  her, so\\nshe’s only weari ng a bloodstained tank top. It is July, after all. But the air-\\nconditioning is on high, and she feels cold and exposed. With her wrists\\ncuffed, all she can do is clasp her hands together and hold her forearms up\\nto cover her breasts. It looks like she’ s praying.\\nShe’s not praying. It’ s much too late for that.\\nHer head throbs underneath the butterfly bandage one of the EMT s\\nstuck on before they put her in the cop car. She must have slam med it into\\nthe rim of the bathtub sometime last night, but she doesn’ t remember\\ntripping or falling. All she remembers is her husband, lying in a bathtub\\nfilled with blood, and the screaming that woke her up this morning.\\nThe blond-pony tailed detective behind the wheel glances at Paris again\\nin the rearview mirror. Ever since Jimmy signed a streaming deal with new\\nNetflix competitor Quan six months ago, people have been staring at her a\\nlot. Paris hates it. When she and Jimmy got married, she expected to live a\\nquiet life with the retired actor -comedian. That’ s the deal they made; that’s\\nthe marriage she signed up for. But then Jimmy changed his mind and un-\\nretired, and it was about the worst thing he could have done to her .\\nAnd now he’ s dead.\\nThe detective has been keeping an eye on her in the back seat the entire\\ntime, her eyes shifting from the road to the mirror every few minutes. Paris\\ncan already tell the woman thinks she did it. Okay , fine, so it looked bad.There was so much blood, and when the detective arrived on the scene,\\nthere were already three officers in the bedroom pointing their guns straight\\nat Paris through the bathroom doorway . Soon there were four pairs of eyes\\nstaring at her as if she’d done something terrible. Nobody seemed to be\\nblinking or breathing, including her .\\n“Mrs. Peralta, please put the weapon down,” the detective had said. Her\\nvoice was calm and direct as she unholstered her pistol. “And then come\\nout of the bathroom slowly with your hands up.”\\nBut I don’t have a weapon , Paris thought. It was the second time\\nsomeone had told her to do that, and just like before, it didn’ t make sense.\\nWhat weapon?\\nThen the detective’ s eyes flickered downward. Paris followed her\\nglance and was shocked to discover that she was still holding Jimmy’ s\\nstraight razor . And not just holding it, but clutching  it in her right hand, her\\nfingers wrapped tightly around the handle, her knuckles white. She lifted it\\nup, staring at it in wonder as she turned it over in her hand. The police\\nofficers didn’ t like that, and the detective repeated her demand again in a\\ntone louder and more commanding than before.\\nThe whole thing was so absur d. Everybody was overreacting. Paris\\nwasn’ t holding a weapon. It was just a shaving tool, one of several straight\\nrazors that Jimmy owned, becau se her husband was an old-school guy who\\nliked straight shaves and cassette tapes and landlines. He wasn’ t even\\nallowed to use his straight razors anymore. The worsening tremor in his\\nhand had rendered them unsafe.\\nSo why the hell was Paris still holding the ebony-handled razor he’d\\nbought in Germany decades ago?\\nEverything happened in slow-motion. As the detective continued to\\nspeak, Paris once again took in the blood spattered across the white marble\\ntile floor , diluted pink from mixing with the bathwater . It was Jimmy’ s\\nblood, and she knew that if she turned around, she would see her husband\\nbehind her, subm erged in the deep soaker bathtub where he’d bled out the\\nnight before.\\nParis did not turn around. But she did manage to catch a glimpse of\\nherself in the mirror above the sink, where she saw a woman who lookedjust like her wearing a tank top splotched with blood. Her hair was tangled\\nand her eyes were wild, the side of her face covered in blood that had oozed\\nfrom a gash over her right eyebrow . In her hand, Jimmy’ s old straight razor\\ndid look like a weapon.\\nA murder weapon.\\n“Mrs. Peralta, drop the razor ,” the detective commanded again.\\nParis finally dropped it. The steel blade landed on the tile with a dull\\nclang, and the uniformed officers moved in on her in a swarm. One of them\\nslapped the cuffs on her, and the detective informed her of her rights. As\\nthey led her out of the bedroom and down the stairs, Paris wondered how\\nshe would possibly explain this.\\nYears ago, the last time this happened, she didn’ t have to explain it at\\nall.\\n“I’m sorry, but would you mind turning down the air-conditi oning?”\\nParis’ s nipples are pressing hard against her forearms like ball bearings.\\nThough she’d lived in Seattle for almost twenty years now, the Canadian in\\nher still can’t break the habit of apologizing before asking for something.\\n“I’m sorry , it’s just really cold back here.”\\nThe officer in the passenger seat pushes a button on the dashboard\\nrepeatedly until the cold air eases up.\\n“Thank you,” she says.\\nThe officer turns around. “Anything else we can do for you?” he asks.\\n“Need a mint? W ant to stop and grab a cof fee?”\\nHe’s not asking real questions, so she doesn’ t respond.\\nOn some level Paris understands that she’s in shock and that the full\\nextent of the situation hasn’ t hit her yet. At least her self-preservation\\ninstincts have kicked in—she knows she’s been arrested, she knows she’s\\ngoing to be booked, and she knows she needs to keep her mouth shut and\\ncall a lawyer at the first opportunity . But still, it feels like she’s watching all\\nthis happen from the outside , as if she’s in a movie where someone who\\nlooks like her is about to be char ged with murder .\\nThis feeling of disassociation —a word she learned as a kid—is\\nsomething that happens to her whenever she’s in situations of extreme\\nstress. Disassociation was her mind’ s way of protecting her from  thetraumas that were happening to her body . While this isn’t what’ s happening\\nnow, the feeling  of separation between her brain and physical form tends to\\nhappen whenever she feels vulnerable and unsafe.\\nRight now , the life she knows—the life she’ s built—is being threatened.\\nParis can’t float away , though. She needs to stay present if she’s going\\nto make it through this, so she focuses on her breathing. As she tells her\\nyoga students, whatever is happ ening, you can always come back to your\\nbreath. Constricting her throat just a little, she takes a slow, deep inhale,\\nholds it, then exhales. It makes a slight hissing sound, as if she’s trying to\\nfog up the car window , and the detective’ s eyes dart toward her in the\\nrearview mirror once again.\\nAfter a few ocean breaths— ujjayi  breaths—Paris is more clearheaded,\\nmore here, and she tries to process how the hell she ended up in the back of\\na cop car, on her way to jail. She watches enough TV to know that the\\npolice always assume it’ s the spouse. Of course, it hadn’ t helped one bit that\\nZoe, Jimmy’ s assistant, was the one pointing the finger and screaming\\nherself hoarse. She murdered him she murdered him oh my God she’s a\\nmurderer!\\nThey think she killed Jimmy .\\nAnd now the rest of the world will, too, because that’s how it looks\\nwhen you’re led out of your home in handcuf fs with blood on your clothes\\nas news  of your celebrity husband’ s death ripples through the crowd of\\nonlookers snapping photos and recording videos of your arrest. The irony\\nis, the crowd was already conveniently in place outside the house well\\nbefore Zoe called the cops. Paris and Jimmy live on Queen Anne Hill, right\\nacross the street from Kerry Park, which boasts the best views of Seattle.\\nIt’s a popular spot for both locals and tourists to take photos of the city\\nskyline and Mount Rainier , and the crowd today was like any other , except\\nthe cameras were pointing towar d the house instead of the skyline. And just\\nlike there hadn’ t been time to put on another shirt, there had been no\\nopportunity to put on differen t shoes. Paris heard someone yell, “Nice\\nslippers!” as soon as she stepped outside, but it didn’ t sound like a\\ncompliment.The neighbors on the street were all outside, too. Bob and Elaine from\\nnext door were standing at the end of their driveway , their faces filled with\\nshock and horror at the sight of her. Since they didn’ t call out or offer to\\nhelp in any way, they must have already heard what happened. They must\\nalready think Paris is guilty .\\nThey’re supposed to be her friends.\\nShe can imagin e the headlines already . JIMMY PERAL TA, THE PRINCE OF\\nPOUGHKEEPSIE, FOUND DEAD AT 68. Though Jimmy’ s highly rated sitcom had\\nended its ten-ye ar run more than two decades earlier , he would  forever be\\nknown for his starring role as the son of a bakery owner in The Prince of\\nPoughkeepsie , which won over a dozen Emm ys and propelled Jimmy into\\nmovie stardom until he retired seven years ago. Paris doesn’ t have to be a\\npublicist to predict that the news of her husband’ s death will be even bigger\\nthan the headline-making multimillion-dollar deal Jimmy signed with Quan\\nwhen he decided to make his comeback. Even Paris would think this was a\\njuicy story if it wasn’ t happening to her .\\nShe continues to focus on her breathing, but her mind refuses to settle.\\nNone of this feels right. While she had no illusions that she and Jimmy\\nwould grow old together , she thought they had more time. In the two years\\nthey’d been married, they’d established an easy routine. Paris worked at the\\nyoga studio six days a week, and Jimmy always had things going on. But\\nSundays were their day together . They should be having a lazy brunch right\\nnow at the nearb y diner , where the owner always saved them a table by the\\nwindow . Pancakes and bacon for Jimmy , waffles with strawberries for\\nParis. Afterward, they might head into Fremont for the farmers’ market or\\ntake a drive to Snohomish to do some antiques hunting. More often than\\nnot, though, they’d head home, where Jimmy would putter in the garden,\\ntrimming this and weeding that, while she cracked open a paperback and sat\\nby the pool.\\nBut this is not a normal Sunday . This is a fucking nightmar e. Paris\\nshould have known it would end like this, because there’ s no such thing as\\nhappily ever after when you run away from one life to start a whole new\\none.\\nKarma has come for her .A feather from her ridiculous slippers tickles the top of her foot. When\\nshe received them for her birthday last month—not her real\n",
    "'''"
   ]
  },
  {
   "cell_type": "code",
   "execution_count": 2,
   "metadata": {},
   "outputs": [],
   "source": [
    "from langchain_text_splitters import RecursiveCharacterTextSplitter"
   ]
  },
  {
   "cell_type": "code",
   "execution_count": 3,
   "metadata": {},
   "outputs": [],
   "source": [
    "text_splitter = RecursiveCharacterTextSplitter(\n",
    "    # Set a really small chunk size, just to show.\n",
    "    chunk_size=100,\n",
    "    chunk_overlap=20,\n",
    "    length_function=len,\n",
    "    is_separator_regex=False,\n",
    ")"
   ]
  },
  {
   "cell_type": "code",
   "execution_count": 4,
   "metadata": {},
   "outputs": [],
   "source": [
    "texts = text_splitter.split_text(text)\n"
   ]
  },
  {
   "cell_type": "code",
   "execution_count": 5,
   "metadata": {},
   "outputs": [],
   "source": [
    "import os\n",
    "from dotenv import load_dotenv"
   ]
  },
  {
   "cell_type": "code",
   "execution_count": 6,
   "metadata": {},
   "outputs": [
    {
     "data": {
      "text/plain": [
       "True"
      ]
     },
     "execution_count": 6,
     "metadata": {},
     "output_type": "execute_result"
    }
   ],
   "source": [
    "load_dotenv()"
   ]
  },
  {
   "cell_type": "code",
   "execution_count": 7,
   "metadata": {},
   "outputs": [],
   "source": [
    "password = os.getenv('password_cohere')"
   ]
  },
  {
   "cell_type": "code",
   "execution_count": 8,
   "metadata": {},
   "outputs": [],
   "source": [
    "# pip install cohere"
   ]
  },
  {
   "cell_type": "code",
   "execution_count": 9,
   "metadata": {},
   "outputs": [],
   "source": [
    "import cohere\n",
    "import numpy as np\n",
    "co = cohere.Client(password)"
   ]
  },
  {
   "cell_type": "code",
   "execution_count": 10,
   "metadata": {},
   "outputs": [],
   "source": [
    "model = 'embed-english-light-v3.0'\n",
    "input_type = \"search_query\"\n",
    "res = co.embed(\n",
    "    texts = texts,\n",
    "    model = model,\n",
    "    input_type = input_type,\n",
    "    embedding_types=['float']\n",
    ")"
   ]
  },
  {
   "cell_type": "code",
   "execution_count": 16,
   "metadata": {},
   "outputs": [],
   "source": [
    "embeddding = res.embeddings.float"
   ]
  },
  {
   "cell_type": "code",
   "execution_count": 11,
   "metadata": {},
   "outputs": [
    {
     "data": {
      "text/plain": [
       "158"
      ]
     },
     "execution_count": 11,
     "metadata": {},
     "output_type": "execute_result"
    }
   ],
   "source": [
    "len(res.embeddings.float)"
   ]
  },
  {
   "cell_type": "code",
   "execution_count": 12,
   "metadata": {},
   "outputs": [
    {
     "data": {
      "text/plain": [
       "158"
      ]
     },
     "execution_count": 12,
     "metadata": {},
     "output_type": "execute_result"
    }
   ],
   "source": [
    "len(texts)"
   ]
  },
  {
   "cell_type": "markdown",
   "metadata": {},
   "source": [
    "I want the list of the form of {\n",
    "    record_id: num,\n",
    "    embedding: embedding,\n",
    "    {\n",
    "        \"text\": text\n",
    "    }\n",
    "}"
   ]
  },
  {
   "cell_type": "code",
   "execution_count": 14,
   "metadata": {},
   "outputs": [],
   "source": [
    "from typing import List, Dict, Tuple"
   ]
  },
  {
   "cell_type": "code",
   "execution_count": 15,
   "metadata": {},
   "outputs": [],
   "source": [
    "records: List[Tuple[str, np.ndarray, Dict]] = []"
   ]
  },
  {
   "cell_type": "code",
   "execution_count": 23,
   "metadata": {},
   "outputs": [
    {
     "data": {
      "text/plain": [
       "'she received them for her birthday last month—not her real'"
      ]
     },
     "execution_count": 23,
     "metadata": {},
     "output_type": "execute_result"
    }
   ],
   "source": [
    "texts[157]"
   ]
  },
  {
   "cell_type": "code",
   "execution_count": 24,
   "metadata": {},
   "outputs": [],
   "source": [
    "for i in range(len(texts)):\n",
    "    records.append((i, embeddding[i], {\"text\":texts[i]}))"
   ]
  },
  {
   "cell_type": "code",
   "execution_count": null,
   "metadata": {},
   "outputs": [],
   "source": [
    "records"
   ]
  },
  {
   "cell_type": "code",
   "execution_count": null,
   "metadata": {},
   "outputs": [],
   "source": []
  }
 ],
 "metadata": {
  "kernelspec": {
   "display_name": "virtual",
   "language": "python",
   "name": "python3"
  },
  "language_info": {
   "codemirror_mode": {
    "name": "ipython",
    "version": 3
   },
   "file_extension": ".py",
   "mimetype": "text/x-python",
   "name": "python",
   "nbconvert_exporter": "python",
   "pygments_lexer": "ipython3",
   "version": "3.11.5"
  }
 },
 "nbformat": 4,
 "nbformat_minor": 2
}
